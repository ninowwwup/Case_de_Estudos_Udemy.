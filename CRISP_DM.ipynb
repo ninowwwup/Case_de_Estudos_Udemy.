{
  "nbformat": 4,
  "nbformat_minor": 0,
  "metadata": {
    "colab": {
      "provenance": [],
      "toc_visible": true,
      "authorship_tag": "ABX9TyNwYMTtue5hZD4E6aJxT2Vq",
      "include_colab_link": true
    },
    "kernelspec": {
      "name": "python3",
      "display_name": "Python 3"
    },
    "language_info": {
      "name": "python"
    }
  },
  "cells": [
    {
      "cell_type": "markdown",
      "metadata": {
        "id": "view-in-github",
        "colab_type": "text"
      },
      "source": [
        "<a href=\"https://colab.research.google.com/github/ninowwwup/Data_analysis_with_ML./blob/main/CRISP_DM.ipynb\" target=\"_parent\"><img src=\"https://colab.research.google.com/assets/colab-badge.svg\" alt=\"Open In Colab\"/></a>"
      ]
    },
    {
      "cell_type": "markdown",
      "source": [
        "# 🔶Business Understanding"
      ],
      "metadata": {
        "id": "paqc1jjro5nz"
      }
    },
    {
      "cell_type": "markdown",
      "source": [
        "# 🔶Data Understanding"
      ],
      "metadata": {
        "id": "XIOyWPa6pIXT"
      }
    },
    {
      "cell_type": "markdown",
      "source": [
        "# 🔶Data Preparation"
      ],
      "metadata": {
        "id": "v-ailHrApOqw"
      }
    },
    {
      "cell_type": "markdown",
      "source": [
        "- Dataset"
      ],
      "metadata": {
        "id": "-ytslFy0pYBG"
      }
    },
    {
      "cell_type": "markdown",
      "source": [
        "- Data Description"
      ],
      "metadata": {
        "id": "XTEAw-uspeRP"
      }
    },
    {
      "cell_type": "markdown",
      "source": [
        "## 🔸Select Data"
      ],
      "metadata": {
        "id": "rmlItloCqAN1"
      }
    },
    {
      "cell_type": "markdown",
      "source": [
        "### ~ Rationale for Inclusion / Exclusion"
      ],
      "metadata": {
        "id": "KoUmnuXWqRJk"
      }
    },
    {
      "cell_type": "markdown",
      "source": [
        "## 🔸Clean Data"
      ],
      "metadata": {
        "id": "EtrYdt-SqbBm"
      }
    },
    {
      "cell_type": "markdown",
      "source": [
        "### ~ Data Cleanning Report "
      ],
      "metadata": {
        "id": "y_6iL6Adqd6V"
      }
    },
    {
      "cell_type": "markdown",
      "source": [
        "## 🔸Construct Data"
      ],
      "metadata": {
        "id": "R8GS9CWEqiXs"
      }
    },
    {
      "cell_type": "markdown",
      "source": [
        "### ~ Derived Attributes"
      ],
      "metadata": {
        "id": "uowczxEdqlHL"
      }
    },
    {
      "cell_type": "markdown",
      "source": [
        "### ~ Generated Records"
      ],
      "metadata": {
        "id": "W4_WIdRGqpra"
      }
    },
    {
      "cell_type": "markdown",
      "source": [
        "## 🔸Integrate Data"
      ],
      "metadata": {
        "id": "AdFytB0pqvJd"
      }
    },
    {
      "cell_type": "markdown",
      "source": [
        "### ~ Merged Data"
      ],
      "metadata": {
        "id": "MKZfW0RiqzUz"
      }
    },
    {
      "cell_type": "markdown",
      "source": [
        "## 🔸Format Data"
      ],
      "metadata": {
        "id": "ipjCSUXHq3Lz"
      }
    },
    {
      "cell_type": "markdown",
      "source": [
        "### ~ Reformatted Data"
      ],
      "metadata": {
        "id": "p_6emR-Pq6gj"
      }
    },
    {
      "cell_type": "markdown",
      "source": [
        "# 🔶Modeling"
      ],
      "metadata": {
        "id": "zAKaGnV4pzR2"
      }
    },
    {
      "cell_type": "markdown",
      "source": [
        "# 🔶Evaluation"
      ],
      "metadata": {
        "id": "7yf9gkXOp1Jd"
      }
    },
    {
      "cell_type": "markdown",
      "source": [
        "# 🔶Deployment"
      ],
      "metadata": {
        "id": "KToOwUlkp3E0"
      }
    }
  ]
}